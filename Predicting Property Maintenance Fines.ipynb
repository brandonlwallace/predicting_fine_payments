{
 "cells": [
  {
   "cell_type": "markdown",
   "metadata": {},
   "source": [
    "---\n",
    "\n",
    "_You are currently looking at **version 1.1** of this notebook. To download notebooks and datafiles, as well as get help on Jupyter notebooks in the Coursera platform, visit the [Jupyter Notebook FAQ](https://www.coursera.org/learn/python-machine-learning/resources/bANLa) course resource._\n",
    "\n",
    "---"
   ]
  },
  {
   "cell_type": "markdown",
   "metadata": {},
   "source": [
    "## Predicting Property Maintenance Fines\n",
    "\n",
    "This project is based on a data challenge from the Michigan Data Science Team ([MDST](http://midas.umich.edu/mdst/)). This project was created as part of the University of Michigan Applied Data Science program. \n",
    "\n",
    "The goal of this project is to assess the likelihood that a Detriot citizen will pay their blight ticket. Blight violations are issued when a person allows their property to remain in a deteriorated condition. There are millions of dollars in tickets issued each year, but many go unpaid. This project creates a probablistic estimate that any given ticket will be paid. The output is a 2 column matrix scoring each ticket. All data is provided by the [Detroit Open Data Portal](https://data.detroitmi.gov/). \n"
   ]
  },
  {
   "cell_type": "code",
   "execution_count": 23,
   "metadata": {
    "collapsed": true
   },
   "outputs": [],
   "source": [
    "import pandas as pd\n",
    "import numpy as np\n",
    "from sklearn.ensemble import RandomForestClassifier\n",
    "from sklearn.model_selection import train_test_split\n",
    "from sklearn.metrics import roc_auc_score\n",
    "from sklearn.metrics import roc_curve, auc\n",
    "from sklearn.preprocessing import LabelEncoder\n",
    "from sklearn.model_selection import GridSearchCV\n",
    "from sklearn.neural_network import MLPClassifier\n",
    "\n",
    "def blight_model():\n",
    "    \n",
    "    train_data = pd.read_csv('train.csv', encoding = 'ISO-8859-1')\n",
    "    test_data = pd.read_csv('test.csv') \n",
    "    address_data =  pd.read_csv('addresses.csv')\n",
    "    latlons = pd.read_csv('latlons.csv') \n",
    "    \n",
    "    train_data = train_data[(train_data['compliance'] == 0) | (train_data['compliance'] == 1)]\n",
    "    \n",
    "    address = address_data.set_index('address').join(latlons.set_index('address'), how='left') \n",
    "    train_data = train_data.set_index('ticket_id').join(address.set_index('ticket_id'))\n",
    "    test_data = test_data.set_index('ticket_id').join(address.set_index('ticket_id'))\n",
    "    \n",
    "    train_data = train_data[~train_data['hearing_date'].isnull()]\n",
    "    \n",
    "    train_remove_cols = ['balance_due','collection_status','compliance_detail','payment_amount',\n",
    "                         'payment_date','payment_status']\n",
    "    train_data.drop(train_remove_cols, axis=1, inplace=True) \n",
    "    \n",
    "    remove_string_cols = ['violator_name', 'zip_code', 'country', 'city',\n",
    "            'inspector_name', 'violation_street_number', 'violation_street_name',\n",
    "            'violation_zip_code', 'violation_description',\n",
    "            'mailing_address_str_number', 'mailing_address_str_name',\n",
    "            'non_us_str_code', 'agency_name', 'state', 'disposition',\n",
    "            'ticket_issued_date', 'hearing_date', 'grafitti_status', 'violation_code'] \n",
    "    \n",
    "    train_data.drop(remove_string_cols, axis=1, inplace=True)\n",
    "    test_data.drop(remove_string_cols, axis=1, inplace=True)    \n",
    "    \n",
    "    train_data.lat.fillna(method='pad', inplace=True)\n",
    "    train_data.lon.fillna(method='pad', inplace=True)\n",
    "    test_data.lat.fillna(method='pad', inplace=True)\n",
    "    test_data.lon.fillna(method='pad', inplace=True)\n",
    "    \n",
    "    y_train = train_data.compliance\n",
    "    X_train = train_data.drop('compliance', axis=1)\n",
    "    X_test = test_data\n",
    "    \n",
    "    from sklearn.preprocessing import MinMaxScaler\n",
    "    scaler = MinMaxScaler()\n",
    "    X_train_scaled = scaler.fit_transform(X_train)\n",
    "    X_test_scaled = scaler.transform(X_test)\n",
    "    \n",
    "    clf = MLPClassifier(hidden_layer_sizes = [100, 10],\n",
    "                        alpha=0.001,\n",
    "                        random_state = 0, \n",
    "                        solver='lbfgs', \n",
    "                        verbose=0)\n",
    "    clf.fit(X_train_scaled, y_train)\n",
    "    \n",
    "    y_prob = clf.predict_proba(X_test_scaled)[:,1]\n",
    "    \n",
    "    test_df = pd.read_csv('test.csv', encoding = \"ISO-8859-1\")\n",
    "    test_df['compliance'] = y_prob\n",
    "    test_df.set_index('ticket_id', inplace=True) \n",
    "    \n",
    "    return test_df.compliance\n",
    "    \n",
    " "
   ]
  },
  {
   "cell_type": "code",
   "execution_count": 24,
   "metadata": {},
   "outputs": [
    {
     "name": "stderr",
     "output_type": "stream",
     "text": [
      "/opt/conda/lib/python3.6/site-packages/IPython/core/interactiveshell.py:2827: DtypeWarning: Columns (11,12,31) have mixed types. Specify dtype option on import or set low_memory=False.\n",
      "  if self.run_code(code, result):\n"
     ]
    },
    {
     "data": {
      "text/plain": [
       "ticket_id\n",
       "284932    0.044484\n",
       "285362    0.028807\n",
       "285361    0.056458\n",
       "285338    0.051292\n",
       "285346    0.069050\n",
       "285345    0.051360\n",
       "285347    0.091602\n",
       "285342    0.319781\n",
       "285530    0.029042\n",
       "284989    0.028101\n",
       "285344    0.089737\n",
       "285343    0.027758\n",
       "285340    0.028037\n",
       "285341    0.091603\n",
       "285349    0.069134\n",
       "285348    0.051373\n",
       "284991    0.028093\n",
       "285532    0.028076\n",
       "285406    0.028676\n",
       "285001    0.026950\n",
       "285006    0.027299\n",
       "285405    0.028986\n",
       "285337    0.029728\n",
       "285496    0.067433\n",
       "285497    0.046533\n",
       "285378    0.028506\n",
       "285589    0.030664\n",
       "285585    0.043609\n",
       "285501    0.060258\n",
       "285581    0.028554\n",
       "            ...   \n",
       "376367    0.029129\n",
       "376366    0.036594\n",
       "376362    0.035352\n",
       "376363    0.043205\n",
       "376365    0.029129\n",
       "376364    0.036594\n",
       "376228    0.040240\n",
       "376265    0.036316\n",
       "376286    0.322978\n",
       "376320    0.039149\n",
       "376314    0.039278\n",
       "376327    0.317067\n",
       "376385    0.306234\n",
       "376435    0.339537\n",
       "376370    0.316198\n",
       "376434    0.061442\n",
       "376459    0.062023\n",
       "376478    0.013753\n",
       "376473    0.039170\n",
       "376484    0.032526\n",
       "376482    0.026864\n",
       "376480    0.026864\n",
       "376479    0.026864\n",
       "376481    0.026864\n",
       "376483    0.035586\n",
       "376496    0.027702\n",
       "376497    0.027702\n",
       "376499    0.056531\n",
       "376500    0.056520\n",
       "369851    0.313730\n",
       "Name: compliance, dtype: float64"
      ]
     },
     "execution_count": 24,
     "metadata": {},
     "output_type": "execute_result"
    }
   ],
   "source": [
    "blight_model()"
   ]
  },
  {
   "cell_type": "code",
   "execution_count": null,
   "metadata": {
    "collapsed": true
   },
   "outputs": [],
   "source": []
  }
 ],
 "metadata": {
  "coursera": {
   "course_slug": "python-machine-learning",
   "graded_item_id": "nNS8l",
   "launcher_item_id": "yWWk7",
   "part_id": "w8BSS"
  },
  "kernelspec": {
   "display_name": "Python 3 (ipykernel)",
   "language": "python",
   "name": "python3"
  },
  "language_info": {
   "codemirror_mode": {
    "name": "ipython",
    "version": 3
   },
   "file_extension": ".py",
   "mimetype": "text/x-python",
   "name": "python",
   "nbconvert_exporter": "python",
   "pygments_lexer": "ipython3",
   "version": "3.9.7"
  }
 },
 "nbformat": 4,
 "nbformat_minor": 2
}
